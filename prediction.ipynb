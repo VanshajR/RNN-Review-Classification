{
 "cells": [
  {
   "cell_type": "code",
   "execution_count": 17,
   "metadata": {},
   "outputs": [],
   "source": [
    "import numpy as np\n",
    "import tensorflow as tf\n",
    "from tensorflow.keras.datasets import imdb\n",
    "from tensorflow.keras.preprocessing import sequence\n",
    "from tensorflow.keras.models import load_model\n"
   ]
  },
  {
   "cell_type": "code",
   "execution_count": 18,
   "metadata": {},
   "outputs": [],
   "source": [
    "word_index = imdb.get_word_index()\n",
    "reverse_word_index = dict([(value, key) for (key, value) in word_index.items()])\n"
   ]
  },
  {
   "cell_type": "code",
   "execution_count": 19,
   "metadata": {},
   "outputs": [
    {
     "name": "stderr",
     "output_type": "stream",
     "text": [
      "WARNING:absl:Compiled the loaded model, but the compiled metrics have yet to be built. `model.compile_metrics` will be empty until you train or evaluate the model.\n"
     ]
    },
    {
     "data": {
      "text/html": [
       "<pre style=\"white-space:pre;overflow-x:auto;line-height:normal;font-family:Menlo,'DejaVu Sans Mono',consolas,'Courier New',monospace\"><span style=\"font-weight: bold\">Model: \"sequential\"</span>\n",
       "</pre>\n"
      ],
      "text/plain": [
       "\u001b[1mModel: \"sequential\"\u001b[0m\n"
      ]
     },
     "metadata": {},
     "output_type": "display_data"
    },
    {
     "data": {
      "text/html": [
       "<pre style=\"white-space:pre;overflow-x:auto;line-height:normal;font-family:Menlo,'DejaVu Sans Mono',consolas,'Courier New',monospace\">┏━━━━━━━━━━━━━━━━━━━━━━━━━━━━━━━━━┳━━━━━━━━━━━━━━━━━━━━━━━━┳━━━━━━━━━━━━━━━┓\n",
       "┃<span style=\"font-weight: bold\"> Layer (type)                    </span>┃<span style=\"font-weight: bold\"> Output Shape           </span>┃<span style=\"font-weight: bold\">       Param # </span>┃\n",
       "┡━━━━━━━━━━━━━━━━━━━━━━━━━━━━━━━━━╇━━━━━━━━━━━━━━━━━━━━━━━━╇━━━━━━━━━━━━━━━┩\n",
       "│ embedding (<span style=\"color: #0087ff; text-decoration-color: #0087ff\">Embedding</span>)           │ (<span style=\"color: #00d7ff; text-decoration-color: #00d7ff\">None</span>, <span style=\"color: #00af00; text-decoration-color: #00af00\">500</span>, <span style=\"color: #00af00; text-decoration-color: #00af00\">128</span>)       │     <span style=\"color: #00af00; text-decoration-color: #00af00\">1,280,000</span> │\n",
       "├─────────────────────────────────┼────────────────────────┼───────────────┤\n",
       "│ simple_rnn (<span style=\"color: #0087ff; text-decoration-color: #0087ff\">SimpleRNN</span>)          │ (<span style=\"color: #00d7ff; text-decoration-color: #00d7ff\">None</span>, <span style=\"color: #00af00; text-decoration-color: #00af00\">128</span>)            │        <span style=\"color: #00af00; text-decoration-color: #00af00\">32,896</span> │\n",
       "├─────────────────────────────────┼────────────────────────┼───────────────┤\n",
       "│ dropout (<span style=\"color: #0087ff; text-decoration-color: #0087ff\">Dropout</span>)               │ (<span style=\"color: #00d7ff; text-decoration-color: #00d7ff\">None</span>, <span style=\"color: #00af00; text-decoration-color: #00af00\">128</span>)            │             <span style=\"color: #00af00; text-decoration-color: #00af00\">0</span> │\n",
       "├─────────────────────────────────┼────────────────────────┼───────────────┤\n",
       "│ dense (<span style=\"color: #0087ff; text-decoration-color: #0087ff\">Dense</span>)                   │ (<span style=\"color: #00d7ff; text-decoration-color: #00d7ff\">None</span>, <span style=\"color: #00af00; text-decoration-color: #00af00\">1</span>)              │           <span style=\"color: #00af00; text-decoration-color: #00af00\">129</span> │\n",
       "└─────────────────────────────────┴────────────────────────┴───────────────┘\n",
       "</pre>\n"
      ],
      "text/plain": [
       "┏━━━━━━━━━━━━━━━━━━━━━━━━━━━━━━━━━┳━━━━━━━━━━━━━━━━━━━━━━━━┳━━━━━━━━━━━━━━━┓\n",
       "┃\u001b[1m \u001b[0m\u001b[1mLayer (type)                   \u001b[0m\u001b[1m \u001b[0m┃\u001b[1m \u001b[0m\u001b[1mOutput Shape          \u001b[0m\u001b[1m \u001b[0m┃\u001b[1m \u001b[0m\u001b[1m      Param #\u001b[0m\u001b[1m \u001b[0m┃\n",
       "┡━━━━━━━━━━━━━━━━━━━━━━━━━━━━━━━━━╇━━━━━━━━━━━━━━━━━━━━━━━━╇━━━━━━━━━━━━━━━┩\n",
       "│ embedding (\u001b[38;5;33mEmbedding\u001b[0m)           │ (\u001b[38;5;45mNone\u001b[0m, \u001b[38;5;34m500\u001b[0m, \u001b[38;5;34m128\u001b[0m)       │     \u001b[38;5;34m1,280,000\u001b[0m │\n",
       "├─────────────────────────────────┼────────────────────────┼───────────────┤\n",
       "│ simple_rnn (\u001b[38;5;33mSimpleRNN\u001b[0m)          │ (\u001b[38;5;45mNone\u001b[0m, \u001b[38;5;34m128\u001b[0m)            │        \u001b[38;5;34m32,896\u001b[0m │\n",
       "├─────────────────────────────────┼────────────────────────┼───────────────┤\n",
       "│ dropout (\u001b[38;5;33mDropout\u001b[0m)               │ (\u001b[38;5;45mNone\u001b[0m, \u001b[38;5;34m128\u001b[0m)            │             \u001b[38;5;34m0\u001b[0m │\n",
       "├─────────────────────────────────┼────────────────────────┼───────────────┤\n",
       "│ dense (\u001b[38;5;33mDense\u001b[0m)                   │ (\u001b[38;5;45mNone\u001b[0m, \u001b[38;5;34m1\u001b[0m)              │           \u001b[38;5;34m129\u001b[0m │\n",
       "└─────────────────────────────────┴────────────────────────┴───────────────┘\n"
      ]
     },
     "metadata": {},
     "output_type": "display_data"
    },
    {
     "data": {
      "text/html": [
       "<pre style=\"white-space:pre;overflow-x:auto;line-height:normal;font-family:Menlo,'DejaVu Sans Mono',consolas,'Courier New',monospace\"><span style=\"font-weight: bold\"> Total params: </span><span style=\"color: #00af00; text-decoration-color: #00af00\">1,313,027</span> (5.01 MB)\n",
       "</pre>\n"
      ],
      "text/plain": [
       "\u001b[1m Total params: \u001b[0m\u001b[38;5;34m1,313,027\u001b[0m (5.01 MB)\n"
      ]
     },
     "metadata": {},
     "output_type": "display_data"
    },
    {
     "data": {
      "text/html": [
       "<pre style=\"white-space:pre;overflow-x:auto;line-height:normal;font-family:Menlo,'DejaVu Sans Mono',consolas,'Courier New',monospace\"><span style=\"font-weight: bold\"> Trainable params: </span><span style=\"color: #00af00; text-decoration-color: #00af00\">1,313,025</span> (5.01 MB)\n",
       "</pre>\n"
      ],
      "text/plain": [
       "\u001b[1m Trainable params: \u001b[0m\u001b[38;5;34m1,313,025\u001b[0m (5.01 MB)\n"
      ]
     },
     "metadata": {},
     "output_type": "display_data"
    },
    {
     "data": {
      "text/html": [
       "<pre style=\"white-space:pre;overflow-x:auto;line-height:normal;font-family:Menlo,'DejaVu Sans Mono',consolas,'Courier New',monospace\"><span style=\"font-weight: bold\"> Non-trainable params: </span><span style=\"color: #00af00; text-decoration-color: #00af00\">0</span> (0.00 B)\n",
       "</pre>\n"
      ],
      "text/plain": [
       "\u001b[1m Non-trainable params: \u001b[0m\u001b[38;5;34m0\u001b[0m (0.00 B)\n"
      ]
     },
     "metadata": {},
     "output_type": "display_data"
    },
    {
     "data": {
      "text/html": [
       "<pre style=\"white-space:pre;overflow-x:auto;line-height:normal;font-family:Menlo,'DejaVu Sans Mono',consolas,'Courier New',monospace\"><span style=\"font-weight: bold\"> Optimizer params: </span><span style=\"color: #00af00; text-decoration-color: #00af00\">2</span> (12.00 B)\n",
       "</pre>\n"
      ],
      "text/plain": [
       "\u001b[1m Optimizer params: \u001b[0m\u001b[38;5;34m2\u001b[0m (12.00 B)\n"
      ]
     },
     "metadata": {},
     "output_type": "display_data"
    },
    {
     "data": {
      "text/plain": [
       "[array([[ 0.00489829, -0.0403402 , -0.03745616, ..., -0.02061587,\n",
       "          0.00336962,  0.0154821 ],\n",
       "        [ 0.00824389, -0.01173686, -0.03647309, ...,  0.03443617,\n",
       "         -0.00274033,  0.07754651],\n",
       "        [-0.00663608,  0.00076077, -0.0238536 , ..., -0.02381147,\n",
       "         -0.05540113,  0.03894865],\n",
       "        ...,\n",
       "        [ 0.02828744, -0.04808999, -0.04842664, ...,  0.04342968,\n",
       "          0.01361823, -0.0191479 ],\n",
       "        [ 0.06823451,  0.00955141,  0.00985605, ...,  0.02466028,\n",
       "          0.01279059, -0.00706585],\n",
       "        [ 0.05994377, -0.06142515, -0.02568587, ..., -0.01253543,\n",
       "         -0.07276994,  0.03337575]], dtype=float32),\n",
       " array([[ 0.18514714,  0.04097956,  0.01057247, ...,  0.13851778,\n",
       "          0.24978688, -0.00423423],\n",
       "        [ 0.1563574 , -0.01193191, -0.14224845, ..., -0.12947015,\n",
       "          0.09668087,  0.07293073],\n",
       "        [-0.15543269, -0.14889222, -0.07354352, ...,  0.01095848,\n",
       "         -0.09644442, -0.12604408],\n",
       "        ...,\n",
       "        [ 0.0841879 , -0.04431619,  0.2480109 , ...,  0.09300871,\n",
       "         -0.2661857 , -0.20547147],\n",
       "        [ 0.08121867, -0.12992723,  0.11026366, ...,  0.00240218,\n",
       "         -0.16315553,  0.00250703],\n",
       "        [ 0.09441943,  0.01476217, -0.09944358, ...,  0.06623439,\n",
       "          0.31702968, -0.11905544]], dtype=float32),\n",
       " array([[ 0.02390723, -0.05586785,  0.04739574, ..., -0.01107637,\n",
       "          0.01572789, -0.13054186],\n",
       "        [ 0.06712061, -0.02454237,  0.018406  , ..., -0.03207292,\n",
       "          0.1122271 , -0.04501299],\n",
       "        [-0.02137062,  0.11498096,  0.03351381, ...,  0.12027206,\n",
       "         -0.13878341,  0.05733384],\n",
       "        ...,\n",
       "        [-0.09464194,  0.00713   , -0.15668005, ..., -0.01379334,\n",
       "         -0.01114967,  0.11597786],\n",
       "        [ 0.08648135,  0.00360332, -0.1977528 , ..., -0.05300269,\n",
       "          0.08321625,  0.00635618],\n",
       "        [ 0.16264413,  0.02372676,  0.03399568, ...,  0.04039806,\n",
       "          0.11393327, -0.10885872]], dtype=float32),\n",
       " array([ 0.003737  ,  0.00938357, -0.0041644 , -0.0063913 , -0.01114713,\n",
       "         0.00094616,  0.0080908 ,  0.04497188, -0.01158119, -0.00550824,\n",
       "         0.03094493,  0.02702004,  0.00111594, -0.01700718, -0.05006151,\n",
       "         0.00967366, -0.03630187, -0.04321168,  0.00995367, -0.05215127,\n",
       "         0.00314565, -0.01396312,  0.00845324, -0.00252795,  0.0007169 ,\n",
       "        -0.02070485,  0.01818764,  0.00816958, -0.02152456,  0.00136776,\n",
       "        -0.02837156,  0.01096344, -0.01435866, -0.0756777 ,  0.01037452,\n",
       "         0.04615515,  0.00458461,  0.06159636,  0.00878281,  0.03692795,\n",
       "        -0.00781846,  0.02495799,  0.00235401, -0.01670707,  0.01294042,\n",
       "        -0.00083802, -0.0253004 , -0.02466127,  0.00885496,  0.02716627,\n",
       "         0.00908539,  0.00405317,  0.01398838, -0.00208593, -0.02393624,\n",
       "        -0.00033229,  0.0057592 , -0.00236777,  0.0548615 , -0.00078068,\n",
       "        -0.01762233, -0.03909466, -0.0660389 ,  0.00501558,  0.02057109,\n",
       "        -0.01988696, -0.03939531,  0.02575652, -0.01624945,  0.03668435,\n",
       "        -0.03413555, -0.00446145,  0.06535979,  0.00065531, -0.01362505,\n",
       "         0.01226358,  0.02537879, -0.01059194,  0.00702435, -0.02886102,\n",
       "         0.01329641,  0.0001886 ,  0.00079104, -0.01098162,  0.00436159,\n",
       "        -0.00703776, -0.05202797, -0.00487151, -0.05712405,  0.05330168,\n",
       "        -0.00836592,  0.00105735, -0.00224719,  0.02488393, -0.01130439,\n",
       "         0.00488165, -0.04213082,  0.02377495,  0.0368378 ,  0.04829872,\n",
       "         0.02382044,  0.00046713, -0.04439431, -0.01215356, -0.00968851,\n",
       "        -0.00938111, -0.01617065, -0.01494446,  0.03177034,  0.01861821,\n",
       "         0.01354287,  0.05273927,  0.02855144, -0.04291815, -0.02511248,\n",
       "         0.00650601,  0.01231637,  0.00437772, -0.0247818 , -0.01559644,\n",
       "        -0.02539217, -0.03927682, -0.01021517,  0.00761354, -0.01462658,\n",
       "         0.01223008,  0.02794984, -0.00853023], dtype=float32),\n",
       " array([[ 4.06919159e-02],\n",
       "        [-2.50832271e-02],\n",
       "        [-7.30608264e-03],\n",
       "        [ 3.22694797e-03],\n",
       "        [-3.69117456e-03],\n",
       "        [-4.22214856e-03],\n",
       "        [ 1.62019525e-02],\n",
       "        [ 2.53881551e-02],\n",
       "        [-1.30997859e-02],\n",
       "        [ 1.27820671e-01],\n",
       "        [-4.39993329e-02],\n",
       "        [-1.92031264e-02],\n",
       "        [-1.80608667e-02],\n",
       "        [ 1.41952150e-02],\n",
       "        [ 3.73720899e-02],\n",
       "        [ 4.56259260e-03],\n",
       "        [-1.91420503e-02],\n",
       "        [-3.16574350e-02],\n",
       "        [ 3.29720601e-03],\n",
       "        [-6.45563006e-02],\n",
       "        [ 1.36355869e-02],\n",
       "        [ 4.88074981e-02],\n",
       "        [ 6.28401479e-03],\n",
       "        [-3.69887829e-01],\n",
       "        [ 2.13470563e-01],\n",
       "        [ 2.56456703e-01],\n",
       "        [-6.10298943e-03],\n",
       "        [-7.39798844e-02],\n",
       "        [ 1.16133420e-02],\n",
       "        [ 7.11840251e-03],\n",
       "        [ 9.96839255e-02],\n",
       "        [ 3.62888817e-03],\n",
       "        [-1.37386285e-02],\n",
       "        [ 3.51768509e-02],\n",
       "        [-1.53504135e-02],\n",
       "        [ 1.43899918e-01],\n",
       "        [-4.58526565e-03],\n",
       "        [-8.91119987e-02],\n",
       "        [-6.75019110e-03],\n",
       "        [-2.27432661e-02],\n",
       "        [ 1.49905143e-04],\n",
       "        [ 1.02635166e-02],\n",
       "        [-1.86687455e-01],\n",
       "        [ 2.46495288e-03],\n",
       "        [ 2.97923721e-02],\n",
       "        [-1.55286593e-02],\n",
       "        [-6.10847883e-02],\n",
       "        [-2.22684164e-02],\n",
       "        [ 9.03151836e-03],\n",
       "        [-4.13491484e-03],\n",
       "        [-1.86630227e-02],\n",
       "        [-4.69028205e-03],\n",
       "        [-1.11189885e-02],\n",
       "        [-4.06442769e-03],\n",
       "        [ 9.25650820e-03],\n",
       "        [-1.27972174e-03],\n",
       "        [ 1.05107399e-02],\n",
       "        [ 2.03888002e-03],\n",
       "        [-2.19854079e-02],\n",
       "        [-1.72631294e-02],\n",
       "        [-3.28649916e-02],\n",
       "        [-5.68379555e-03],\n",
       "        [ 2.28709832e-01],\n",
       "        [-5.38258106e-02],\n",
       "        [-9.38444305e-03],\n",
       "        [ 2.08011866e-02],\n",
       "        [ 3.34644131e-02],\n",
       "        [-1.55591406e-02],\n",
       "        [ 1.50652630e-02],\n",
       "        [ 1.81714054e-02],\n",
       "        [ 2.80017495e-01],\n",
       "        [-1.62832718e-02],\n",
       "        [ 1.17636994e-02],\n",
       "        [ 1.03746625e-02],\n",
       "        [ 3.09556276e-02],\n",
       "        [-9.73974448e-03],\n",
       "        [ 7.47509347e-03],\n",
       "        [ 1.81469694e-02],\n",
       "        [ 3.69352335e-03],\n",
       "        [-5.57864737e-03],\n",
       "        [ 2.57883459e-01],\n",
       "        [ 2.16609519e-03],\n",
       "        [-1.62172690e-01],\n",
       "        [ 5.50449500e-03],\n",
       "        [ 1.03549184e-02],\n",
       "        [-7.58692808e-03],\n",
       "        [ 9.06242430e-02],\n",
       "        [-1.19379640e-01],\n",
       "        [-6.68171048e-02],\n",
       "        [-9.24672931e-02],\n",
       "        [-8.48379172e-03],\n",
       "        [-1.79190692e-02],\n",
       "        [-4.00841655e-03],\n",
       "        [-6.27261028e-03],\n",
       "        [-5.70919663e-02],\n",
       "        [ 2.36947909e-02],\n",
       "        [ 3.02274767e-02],\n",
       "        [-4.71054064e-03],\n",
       "        [ 1.03559745e-02],\n",
       "        [-4.26672958e-02],\n",
       "        [-5.93641549e-02],\n",
       "        [ 7.14881578e-03],\n",
       "        [-1.00081461e-02],\n",
       "        [-1.87215790e-01],\n",
       "        [ 2.13967152e-02],\n",
       "        [-2.57180235e-03],\n",
       "        [-2.16280967e-02],\n",
       "        [ 7.11824931e-03],\n",
       "        [ 3.17681208e-02],\n",
       "        [ 8.72133821e-02],\n",
       "        [-6.76451018e-03],\n",
       "        [-8.08175653e-03],\n",
       "        [-1.92878004e-02],\n",
       "        [-2.80704554e-02],\n",
       "        [-6.11112127e-03],\n",
       "        [ 4.27194079e-03],\n",
       "        [ 1.25494143e-02],\n",
       "        [ 8.38467944e-03],\n",
       "        [ 8.84661917e-03],\n",
       "        [-6.42183190e-03],\n",
       "        [-2.57566245e-03],\n",
       "        [ 1.21997613e-02],\n",
       "        [ 6.62018452e-03],\n",
       "        [ 3.99229396e-03],\n",
       "        [-3.00221634e-03],\n",
       "        [-1.95185877e-02],\n",
       "        [ 1.79206058e-01],\n",
       "        [ 4.06879745e-03]], dtype=float32),\n",
       " array([0.08538053], dtype=float32)]"
      ]
     },
     "execution_count": 19,
     "metadata": {},
     "output_type": "execute_result"
    }
   ],
   "source": [
    "model=load_model('rnn_model_imdb.h5')\n",
    "model.summary()\n",
    "model.get_weights()"
   ]
  },
  {
   "cell_type": "code",
   "execution_count": 20,
   "metadata": {},
   "outputs": [],
   "source": [
    "# Functions to decode the review and to pad the review\n",
    "import re\n",
    "\n",
    "def decode_review(text):\n",
    "    return ' '.join([reverse_word_index.get(i - 3, '?') for i in text])\n",
    "\n",
    "def preprocess_text(text):\n",
    "    # Clean the input text\n",
    "    text = re.sub(r\"[^a-zA-Z0-9\\s]\", \"\", text.lower())\n",
    "    words = text.split()\n",
    "    encoded_review = [word_index.get(word, 2) + 3 for word in words]\n",
    "    padded_review = sequence.pad_sequences([encoded_review], maxlen=500)\n",
    "    return padded_review\n"
   ]
  },
  {
   "cell_type": "code",
   "execution_count": 21,
   "metadata": {},
   "outputs": [],
   "source": [
    "# Prediction function\n",
    "\n",
    "def predict_sentiment(text):\n",
    "    padded_review = preprocess_text(text)\n",
    "    pred = model.predict(padded_review)\n",
    "    sentiment = 'Positive' if pred[0][0] > 0.5 else 'Negative'\n",
    "    return sentiment,pred[0][0]"
   ]
  },
  {
   "cell_type": "code",
   "execution_count": 24,
   "metadata": {},
   "outputs": [
    {
     "name": "stdout",
     "output_type": "stream",
     "text": [
      "\u001b[1m1/1\u001b[0m \u001b[32m━━━━━━━━━━━━━━━━━━━━\u001b[0m\u001b[37m\u001b[0m \u001b[1m0s\u001b[0m 22ms/step\n",
      "Review: The movie was utter trash, I would not recommend it to anyone.\n",
      "Sentiment: Negative\n",
      "Confidence: 0.1140713319182396\n"
     ]
    }
   ],
   "source": [
    "# Test with sample\n",
    "text = \"The movie was utter trash, I would not recommend it to anyone.\"\n",
    "sentiment,score = predict_sentiment(text)\n",
    "\n",
    "print(f'Review: {text}')\n",
    "print(f'Sentiment: {sentiment}')\n",
    "print(f'Confidence: {score}')"
   ]
  },
  {
   "cell_type": "code",
   "execution_count": 25,
   "metadata": {},
   "outputs": [
    {
     "name": "stdout",
     "output_type": "stream",
     "text": [
      "\u001b[1m1/1\u001b[0m \u001b[32m━━━━━━━━━━━━━━━━━━━━\u001b[0m\u001b[37m\u001b[0m \u001b[1m0s\u001b[0m 27ms/step\n",
      "Review: The movie was a masterpiece, I would recommend it to everyone.\n",
      "Sentiment: Positive\n",
      "Confidence: 0.9559293985366821\n"
     ]
    }
   ],
   "source": [
    "# Test with sample\n",
    "text = \"The movie was a masterpiece, I would recommend it to everyone.\"\n",
    "sentiment,score = predict_sentiment(text)\n",
    "\n",
    "print(f'Review: {text}')\n",
    "print(f'Sentiment: {sentiment}')\n",
    "print(f'Confidence: {score}')"
   ]
  },
  {
   "cell_type": "code",
   "execution_count": null,
   "metadata": {},
   "outputs": [],
   "source": []
  }
 ],
 "metadata": {
  "kernelspec": {
   "display_name": "venv",
   "language": "python",
   "name": "python3"
  },
  "language_info": {
   "codemirror_mode": {
    "name": "ipython",
    "version": 3
   },
   "file_extension": ".py",
   "mimetype": "text/x-python",
   "name": "python",
   "nbconvert_exporter": "python",
   "pygments_lexer": "ipython3",
   "version": "3.11.0"
  }
 },
 "nbformat": 4,
 "nbformat_minor": 2
}
